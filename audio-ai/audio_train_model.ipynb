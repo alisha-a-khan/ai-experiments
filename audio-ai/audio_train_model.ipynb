{
  "nbformat": 4,
  "nbformat_minor": 0,
  "metadata": {
    "colab": {
      "name": "audio train model.ipynb",
      "provenance": [],
      "collapsed_sections": [],
      "authorship_tag": "ABX9TyNxoq5qld/htIww95ACmY65",
      "include_colab_link": true
    },
    "kernelspec": {
      "name": "python3",
      "display_name": "Python 3"
    }
  },
  "cells": [
    {
      "cell_type": "markdown",
      "metadata": {
        "id": "view-in-github",
        "colab_type": "text"
      },
      "source": [
        "<a href=\"https://colab.research.google.com/github/alisha-a-khan/ai-experiments/blob/master/audio-ai/audio_train_model.ipynb\" target=\"_parent\"><img src=\"https://colab.research.google.com/assets/colab-badge.svg\" alt=\"Open In Colab\"/></a>"
      ]
    },
    {
      "cell_type": "code",
      "metadata": {
        "id": "1Zse2etpD4oW",
        "colab_type": "code",
        "colab": {
          "base_uri": "https://localhost:8080/",
          "height": 34
        },
        "outputId": "a8f54ffb-7e85-4b1c-d754-5fabfd6b6cac"
      },
      "source": [
        "from google.colab import drive\n",
        "drive.mount('/content/gdrive')"
      ],
      "execution_count": null,
      "outputs": [
        {
          "output_type": "stream",
          "text": [
            "Mounted at /content/gdrive\n"
          ],
          "name": "stdout"
        }
      ]
    },
    {
      "cell_type": "code",
      "metadata": {
        "id": "Bz6OZIyEEFMR",
        "colab_type": "code",
        "colab": {}
      },
      "source": [
        "\n",
        "%matplotlib inline\n",
        "import matplotlib.pyplot as plt\n",
        "\n",
        "import numpy as np\n",
        "import pandas as pd\n",
        "import os"
      ],
      "execution_count": null,
      "outputs": []
    },
    {
      "cell_type": "code",
      "metadata": {
        "id": "sE_9j7cZEr1h",
        "colab_type": "code",
        "colab": {}
      },
      "source": [
        "BASEDIR='/content/gdrive/My Drive/Colab Data/audio'"
      ],
      "execution_count": null,
      "outputs": []
    },
    {
      "cell_type": "code",
      "metadata": {
        "id": "qw7elmMOFCn6",
        "colab_type": "code",
        "colab": {}
      },
      "source": [
        "featuresdf=pd.read_pickle(os.path.join(BASEDIR,'alisha_data.pkl'))"
      ],
      "execution_count": null,
      "outputs": []
    },
    {
      "cell_type": "code",
      "metadata": {
        "id": "fsVnDXDeFW6j",
        "colab_type": "code",
        "colab": {
          "base_uri": "https://localhost:8080/",
          "height": 34
        },
        "outputId": "cef2eb33-84f4-484c-90ad-2166c2ef560c"
      },
      "source": [
        "featuresdf.shape"
      ],
      "execution_count": null,
      "outputs": [
        {
          "output_type": "execute_result",
          "data": {
            "text/plain": [
              "(199, 2)"
            ]
          },
          "metadata": {
            "tags": []
          },
          "execution_count": 5
        }
      ]
    },
    {
      "cell_type": "code",
      "metadata": {
        "id": "3MG9QkfBFcrm",
        "colab_type": "code",
        "colab": {
          "base_uri": "https://localhost:8080/",
          "height": 275
        },
        "outputId": "d00c2245-0765-470d-ba9e-86662124da73"
      },
      "source": [
        "featuresdf.head"
      ],
      "execution_count": null,
      "outputs": [
        {
          "output_type": "execute_result",
          "data": {
            "text/plain": [
              "<bound method NDFrame.head of                                                feature class_label\n",
              "0    [-349.6761883061811, 77.97523127033531, -39.60...        true\n",
              "1    [-162.9719763103223, 14.484394950908994, -8.11...        true\n",
              "2    [-123.59541613826386, 14.752998048912946, -7.2...        true\n",
              "3    [-224.82055260907148, 51.0820508547996, -3.274...        true\n",
              "4    [-157.86453794559563, 35.08948012718332, -10.6...        true\n",
              "..                                                 ...         ...\n",
              "194  [-241.3405578986279, 63.90872696519794, -18.75...       false\n",
              "195  [-491.51690450684833, 78.82440906291254, 16.72...       false\n",
              "196  [-532.1695030260717, 56.05748791953128, 8.1457...       false\n",
              "197  [-371.95120095021525, 75.61944273301503, -1.30...       false\n",
              "198  [-461.01609481726405, 106.21097063446557, 11.0...       false\n",
              "\n",
              "[199 rows x 2 columns]>"
            ]
          },
          "metadata": {
            "tags": []
          },
          "execution_count": 6
        }
      ]
    },
    {
      "cell_type": "code",
      "metadata": {
        "id": "DZzAN48Z9X9J",
        "colab_type": "code",
        "colab": {
          "base_uri": "https://localhost:8080/",
          "height": 204
        },
        "outputId": "f2a03bb5-1873-4c13-d16f-b0e05dc887e9"
      },
      "source": [
        "featuresdf.head()"
      ],
      "execution_count": null,
      "outputs": [
        {
          "output_type": "execute_result",
          "data": {
            "text/html": [
              "<div>\n",
              "<style scoped>\n",
              "    .dataframe tbody tr th:only-of-type {\n",
              "        vertical-align: middle;\n",
              "    }\n",
              "\n",
              "    .dataframe tbody tr th {\n",
              "        vertical-align: top;\n",
              "    }\n",
              "\n",
              "    .dataframe thead th {\n",
              "        text-align: right;\n",
              "    }\n",
              "</style>\n",
              "<table border=\"1\" class=\"dataframe\">\n",
              "  <thead>\n",
              "    <tr style=\"text-align: right;\">\n",
              "      <th></th>\n",
              "      <th>feature</th>\n",
              "      <th>class_label</th>\n",
              "    </tr>\n",
              "  </thead>\n",
              "  <tbody>\n",
              "    <tr>\n",
              "      <th>0</th>\n",
              "      <td>[-349.6761883061811, 77.97523127033531, -39.60...</td>\n",
              "      <td>true</td>\n",
              "    </tr>\n",
              "    <tr>\n",
              "      <th>1</th>\n",
              "      <td>[-162.9719763103223, 14.484394950908994, -8.11...</td>\n",
              "      <td>true</td>\n",
              "    </tr>\n",
              "    <tr>\n",
              "      <th>2</th>\n",
              "      <td>[-123.59541613826386, 14.752998048912946, -7.2...</td>\n",
              "      <td>true</td>\n",
              "    </tr>\n",
              "    <tr>\n",
              "      <th>3</th>\n",
              "      <td>[-224.82055260907148, 51.0820508547996, -3.274...</td>\n",
              "      <td>true</td>\n",
              "    </tr>\n",
              "    <tr>\n",
              "      <th>4</th>\n",
              "      <td>[-157.86453794559563, 35.08948012718332, -10.6...</td>\n",
              "      <td>true</td>\n",
              "    </tr>\n",
              "  </tbody>\n",
              "</table>\n",
              "</div>"
            ],
            "text/plain": [
              "                                             feature class_label\n",
              "0  [-349.6761883061811, 77.97523127033531, -39.60...        true\n",
              "1  [-162.9719763103223, 14.484394950908994, -8.11...        true\n",
              "2  [-123.59541613826386, 14.752998048912946, -7.2...        true\n",
              "3  [-224.82055260907148, 51.0820508547996, -3.274...        true\n",
              "4  [-157.86453794559563, 35.08948012718332, -10.6...        true"
            ]
          },
          "metadata": {
            "tags": []
          },
          "execution_count": 7
        }
      ]
    },
    {
      "cell_type": "code",
      "metadata": {
        "id": "cNXAv5tK9hvV",
        "colab_type": "code",
        "colab": {}
      },
      "source": [
        "import torch\n",
        "from torch.utils.data import Dataset, DataLoader"
      ],
      "execution_count": null,
      "outputs": []
    },
    {
      "cell_type": "code",
      "metadata": {
        "id": "lLRQqmp--A69",
        "colab_type": "code",
        "colab": {}
      },
      "source": [
        "#first step: train a data set\n",
        "#get dataset ready for training\n",
        "#split the dataset into 70% train data, 30% test data\n",
        "\n"
      ],
      "execution_count": null,
      "outputs": []
    },
    {
      "cell_type": "code",
      "metadata": {
        "id": "-dlIy1qGKtc1",
        "colab_type": "code",
        "colab": {}
      },
      "source": [
        "#create a custom dataset. This audio dataset takes in a pandas dataframe and we create it to fit pytorch"
      ],
      "execution_count": null,
      "outputs": []
    },
    {
      "cell_type": "code",
      "metadata": {
        "id": "b7YQ-Mh_K073",
        "colab_type": "code",
        "colab": {}
      },
      "source": [
        "class AudioDataSet(Dataset):\n",
        "  \"\"\"Audio dataset.\"\"\"\n",
        "  def __init__(self,df):\n",
        "    self.audio_df=df\n",
        "  def __len__(self):\n",
        "    return self.audio_df.shape[0]\n",
        "  def __getitem__(self,idx):\n",
        "    audio_vector=torch.FloatTensor(self.audio_df.iloc [idx,0])\n",
        "    audio_label=self.audio_df.iloc[idx,1]\n",
        "    if audio_label =='true':\n",
        "      audio_label=torch.tensor(1)\n",
        "    else:\n",
        "      audio_label=torch.tensor(0)\n",
        "\n",
        "    return audio_vector, audio_label"
      ],
      "execution_count": null,
      "outputs": []
    },
    {
      "cell_type": "code",
      "metadata": {
        "id": "EvA809EfLi4l",
        "colab_type": "code",
        "colab": {}
      },
      "source": [
        "#generate the dataset and split it into 70/30 train and validation dataset\n",
        "audio_dataset=AudioDataSet(featuresdf)\n",
        "train_percent=0.7\n",
        "train_len=int(len(audio_dataset)*train_percent)\n",
        "valid_len=len(audio_dataset)-train_len\n",
        "train_set, validation_set= torch.utils.data.random_split(audio_dataset, [train_len, valid_len])\n"
      ],
      "execution_count": null,
      "outputs": []
    },
    {
      "cell_type": "code",
      "metadata": {
        "id": "Ze7KJ_EzMPmT",
        "colab_type": "code",
        "colab": {}
      },
      "source": [
        "#create the train and test loader\n",
        "trainloader=DataLoader(train_set, batch_size=4, shuffle=True, num_workers=0)\n",
        "testloader=DataLoader(validation_set, batch_size=4, shuffle=True, num_workers=0)\n",
        "\n"
      ],
      "execution_count": null,
      "outputs": []
    },
    {
      "cell_type": "code",
      "metadata": {
        "id": "5y35BFeVWWj2",
        "colab_type": "code",
        "colab": {
          "base_uri": "https://localhost:8080/",
          "height": 595
        },
        "outputId": "189e4e7c-c520-4c83-bcd9-98eca919ca45"
      },
      "source": [
        "dataiter=iter(trainloader)\n",
        "audio,label=dataiter.next()\n",
        "print(audio)\n",
        "print(label)\n",
        "print(audio.shape)"
      ],
      "execution_count": null,
      "outputs": [
        {
          "output_type": "stream",
          "text": [
            "tensor([[-3.2938e+02,  5.5541e+01,  7.6758e+00,  9.4134e+00,  1.3747e+00,\n",
            "          2.1947e+01, -1.2915e+01,  1.7735e+01, -1.6053e+01,  2.1031e+01,\n",
            "         -1.2320e+01,  7.5442e+00, -8.9497e+00,  9.3118e+00, -7.5457e+00,\n",
            "          2.5884e+00, -6.0674e+00,  9.1662e+00, -5.8372e+00,  2.0469e+00,\n",
            "         -8.8797e+00,  1.8904e+00, -1.0642e+01, -3.2958e+00, -4.5803e+00,\n",
            "          3.1916e+00, -4.7153e+00, -2.0303e+00, -5.6833e+00,  4.4010e+00,\n",
            "         -2.7531e+00,  6.5042e+00, -4.7800e-01,  3.4702e+00, -2.7000e-01,\n",
            "          1.4842e+00, -5.0798e-01,  4.4213e+00, -2.7059e+00,  1.9273e+00],\n",
            "        [-1.0072e+02,  7.2745e+01, -4.6571e+01,  1.0952e+01,  5.6281e+00,\n",
            "          2.1467e+01, -1.5759e+01,  1.0386e+01, -1.1405e+01,  1.6754e+01,\n",
            "         -1.9471e+01,  3.0589e+00, -2.1006e+01, -3.7226e+00, -2.2091e+01,\n",
            "         -8.3740e-02, -8.0710e+00,  1.5623e+01, -1.1426e+00,  1.3769e+01,\n",
            "         -3.7043e+00,  5.6246e+00, -2.3340e+00,  6.8958e+00, -2.9679e+00,\n",
            "          8.3436e+00, -3.0478e-01,  4.1682e+00, -5.3458e+00,  1.7379e+00,\n",
            "         -2.2141e+00,  1.9720e+00, -2.3018e+00,  2.8254e+00, -4.3119e+00,\n",
            "          3.7721e-01, -8.2875e+00, -2.9560e+00, -2.6239e+00,  3.6334e+00],\n",
            "        [-2.4941e+02,  1.7643e+01,  1.8328e+01,  4.3509e+01, -4.5861e+00,\n",
            "          2.0192e+01,  1.2510e+00,  1.5701e+01, -2.0176e+01,  1.2279e+01,\n",
            "         -1.0935e+01,  4.1366e-01, -1.6285e+01,  1.0368e+01, -1.2926e+01,\n",
            "          2.9335e+00, -3.0097e+00,  5.6678e+00, -1.1680e+01,  7.9879e+00,\n",
            "         -4.3181e+00,  5.6113e+00, -1.6192e+00,  8.0769e+00,  1.6216e+00,\n",
            "          4.8012e+00, -5.2327e+00,  2.9964e+00, -5.4758e+00,  2.1799e+00,\n",
            "         -3.2520e+00,  2.3112e+00, -1.1314e+00,  1.0305e+00, -3.9386e+00,\n",
            "          8.7025e-01, -1.6775e+00, -1.6006e-01, -6.3877e-01,  7.0927e-01],\n",
            "        [-4.2518e+02,  1.0300e+02,  8.4157e+00,  2.4176e+01,  7.4307e+00,\n",
            "          2.1320e+01, -5.1073e+00,  4.0864e+00, -8.0653e+00,  8.1470e+00,\n",
            "         -9.4176e+00,  7.4483e+00, -4.8604e+00,  3.7743e+00, -4.4663e+00,\n",
            "          2.4058e+00, -5.0283e+00,  3.0499e-01, -4.7213e+00,  1.5237e+00,\n",
            "         -3.3779e+00, -1.8997e-01, -1.8895e+00,  8.1563e-01, -9.1793e-01,\n",
            "          2.7890e-01,  8.9864e-01,  2.1091e+00,  1.5514e+00,  9.5045e-01,\n",
            "          1.3157e+00,  8.5026e-01,  2.1907e+00,  1.2629e+00,  1.2708e+00,\n",
            "         -8.1429e-01, -1.2846e+00, -1.9248e+00, -2.9443e-01, -8.4162e-01]])\n",
            "tensor([1, 0, 1, 0])\n",
            "torch.Size([4, 40])\n"
          ],
          "name": "stdout"
        }
      ]
    },
    {
      "cell_type": "code",
      "metadata": {
        "id": "DRIZ1GnUPHdp",
        "colab_type": "code",
        "colab": {}
      },
      "source": [
        "from torch import nn\n",
        "import torch.nn.functional as F\n",
        "from torch import optim"
      ],
      "execution_count": null,
      "outputs": []
    },
    {
      "cell_type": "code",
      "metadata": {
        "id": "z03pGEEuSepY",
        "colab_type": "code",
        "colab": {}
      },
      "source": [
        "#our network has 40 inputs and 2 outputs\n",
        "#one image goes in, true and false go out\n",
        "#two hidden layers in the neural network\n",
        "#two hidden layers of size 256 and 128\n",
        "\n",
        "class AudioNetwork(nn.Module):\n",
        "  def __init__(self):\n",
        "    super().__init__()\n",
        "\n",
        "    #create first layer\n",
        "    self.fc1=nn.Linear(40,256)\n",
        "    self.fc2=nn.Linear(256,128)\n",
        "    self.fc3=nn.Linear(128,2)\n",
        "\n",
        "    self.dropout= nn.Dropout(p=0.2)\n",
        "    #define activations\n",
        "    #sigmoid function\n",
        "  def forward(self,x):\n",
        "    #hidden layer 1 with relu activation\n",
        "    x=self.fc1(x)\n",
        "    x=F.relu(x)\n",
        "    x=self.dropout(x)\n",
        "\n",
        "    #hidden layer 2 with relu activation\n",
        "    x=self.fc2(x)\n",
        "    x=F.relu(x)\n",
        "    x=self.dropout(x)\n",
        "\n",
        "    #output layer 3 with log softmax activation\n",
        "    x=self.fc3(x)\n",
        "    x=F.log_softmax(x,dim=1)\n",
        "    \n",
        "\n",
        "    return x\n",
        "\n",
        "\n"
      ],
      "execution_count": null,
      "outputs": []
    },
    {
      "cell_type": "code",
      "metadata": {
        "id": "MG1pz5RqWBb_",
        "colab_type": "code",
        "colab": {}
      },
      "source": [
        "#testing\n",
        "model=AudioNetwork()"
      ],
      "execution_count": null,
      "outputs": []
    },
    {
      "cell_type": "code",
      "metadata": {
        "id": "fXgiRr2NWJQb",
        "colab_type": "code",
        "colab": {
          "base_uri": "https://localhost:8080/",
          "height": 119
        },
        "outputId": "42654103-4611-4912-80cf-36ca464fd972"
      },
      "source": [
        "model"
      ],
      "execution_count": null,
      "outputs": [
        {
          "output_type": "execute_result",
          "data": {
            "text/plain": [
              "AudioNetwork(\n",
              "  (fc1): Linear(in_features=40, out_features=256, bias=True)\n",
              "  (fc2): Linear(in_features=256, out_features=128, bias=True)\n",
              "  (fc3): Linear(in_features=128, out_features=2, bias=True)\n",
              "  (dropout): Dropout(p=0.2, inplace=False)\n",
              ")"
            ]
          },
          "metadata": {
            "tags": []
          },
          "execution_count": 88
        }
      ]
    },
    {
      "cell_type": "code",
      "metadata": {
        "colab_type": "code",
        "id": "XfGo_tgnW9S0",
        "colab": {
          "base_uri": "https://localhost:8080/",
          "height": 374
        },
        "outputId": "a4dfe46f-ad35-4f20-f6ca-8333941766a7"
      },
      "source": [
        "criterion=nn.NLLLoss()\n",
        "optimizer=optim.Adam(model.parameters(), lr=0.001)\n",
        "\n",
        "\n",
        "dataiter=iter(trainloader)\n",
        "audio,label=dataiter.next()\n",
        "#forward pass\n",
        "log_ps=model(audio)\n",
        "\n",
        "ps= torch.exp(log_ps)\n",
        "print(label)\n",
        "#print(ps.topk(2))\n",
        "print(ps.topk(1))\n",
        "#loss function is difference bw probability and label\n",
        "\n",
        "loss=criterion(log_ps, label)\n",
        "print(loss)\n",
        "\n",
        "#gradient descent is loss.backward and optimizer.step\n",
        "loss.backward()\n",
        "#^this computes derivative of loss/ dx, now we hv to apply this\n",
        "optimizer.step()\n",
        "\n",
        "\n",
        "#clear gradients prior to a new pass\n",
        "optimizer.zero_grad()\n",
        "#forward pass when you run data through a model\n",
        "log_ps=model(audio)\n",
        "ps= torch.exp(log_ps)\n",
        "print(label)\n",
        "#print(ps.topk(2))\n",
        "print(ps.topk(1))\n",
        "\n"
      ],
      "execution_count": null,
      "outputs": [
        {
          "output_type": "stream",
          "text": [
            "tensor([0, 1, 0, 0])\n",
            "torch.return_types.topk(\n",
            "values=tensor([[0.9999],\n",
            "        [0.6529],\n",
            "        [1.0000],\n",
            "        [0.9913]], grad_fn=<TopkBackward>),\n",
            "indices=tensor([[1],\n",
            "        [1],\n",
            "        [1],\n",
            "        [1]]))\n",
            "tensor(6.1767, grad_fn=<NllLossBackward>)\n",
            "tensor([0, 1, 0, 0])\n",
            "torch.return_types.topk(\n",
            "values=tensor([[1.0000],\n",
            "        [0.9730],\n",
            "        [1.0000],\n",
            "        [0.9998]], grad_fn=<TopkBackward>),\n",
            "indices=tensor([[0],\n",
            "        [0],\n",
            "        [0],\n",
            "        [0]]))\n"
          ],
          "name": "stdout"
        }
      ]
    },
    {
      "cell_type": "code",
      "metadata": {
        "id": "3Anvxcb7p3jf",
        "colab_type": "code",
        "colab": {}
      },
      "source": [
        ""
      ],
      "execution_count": null,
      "outputs": []
    },
    {
      "cell_type": "code",
      "metadata": {
        "id": "BzFv2X6Jp4IC",
        "colab_type": "code",
        "colab": {
          "base_uri": "https://localhost:8080/",
          "height": 442
        },
        "outputId": "f5dd9f0a-736a-4d44-b080-78d802313f35"
      },
      "source": [
        "model = AudioNetwork()\n",
        "# criterion = nn.CrossEntropyLoss()\n",
        "# optimizer = optim.SGD(model.parameters(), lr=0.005)\n",
        "criterion = nn.NLLLoss()\n",
        "optimizer = optim.Adam(model.parameters(), lr=0.001)\n",
        "\n",
        "epochs = 25 #how many time you want to loop through the dataset\n",
        "steps = 0\n",
        "\n",
        "train_losses, test_losses = [], []\n",
        "for e in range(epochs):\n",
        "    running_loss = 0\n",
        "    for audios, labels in trainloader:\n",
        "        \n",
        "        optimizer.zero_grad()\n",
        "        \n",
        "        log_ps = model(audios)\n",
        "        loss = criterion(log_ps, labels)\n",
        "        loss.backward()\n",
        "        optimizer.step()\n",
        "        \n",
        "        running_loss += loss.item()\n",
        "        \n",
        "    else:\n",
        "        test_loss = 0\n",
        "        accuracy = 0\n",
        "        \n",
        "        # Turn off gradients for validation, saves memory and computations\n",
        "        with torch.no_grad():\n",
        "            for images, labels in testloader:\n",
        "                log_ps = model(images)\n",
        "                test_loss += criterion(log_ps, labels)\n",
        "                \n",
        "                ps = torch.exp(log_ps)\n",
        "                top_p, top_class = ps.topk(1, dim=1)\n",
        "                equals = top_class == labels.view(*top_class.shape)\n",
        "                accuracy += torch.mean(equals.type(torch.FloatTensor))\n",
        "                \n",
        "        train_losses.append(running_loss/len(trainloader))\n",
        "        test_losses.append(test_loss/len(testloader))\n",
        "\n",
        "        print(\"Epoch: {}/{}.. \".format(e+1, epochs),\n",
        "              \"Training Loss: {:.3f}.. \".format(running_loss/len(trainloader)),\n",
        "              \"Test Loss: {:.3f}.. \".format(test_loss/len(testloader)),\n",
        "              \"Test Accuracy: {:.3f}\".format(accuracy/len(testloader)))\n",
        "\n"
      ],
      "execution_count": null,
      "outputs": [
        {
          "output_type": "stream",
          "text": [
            "Epoch: 1/25..  Training Loss: 8.496..  Test Loss: 0.306..  Test Accuracy: 0.867\n",
            "Epoch: 2/25..  Training Loss: 0.600..  Test Loss: 0.750..  Test Accuracy: 0.650\n",
            "Epoch: 3/25..  Training Loss: 0.449..  Test Loss: 0.308..  Test Accuracy: 0.867\n",
            "Epoch: 4/25..  Training Loss: 0.354..  Test Loss: 0.515..  Test Accuracy: 0.767\n",
            "Epoch: 5/25..  Training Loss: 0.349..  Test Loss: 0.299..  Test Accuracy: 0.867\n",
            "Epoch: 6/25..  Training Loss: 0.301..  Test Loss: 0.311..  Test Accuracy: 0.850\n",
            "Epoch: 7/25..  Training Loss: 0.248..  Test Loss: 0.352..  Test Accuracy: 0.883\n",
            "Epoch: 8/25..  Training Loss: 0.310..  Test Loss: 0.339..  Test Accuracy: 0.883\n",
            "Epoch: 9/25..  Training Loss: 0.331..  Test Loss: 0.467..  Test Accuracy: 0.717\n",
            "Epoch: 10/25..  Training Loss: 0.322..  Test Loss: 0.317..  Test Accuracy: 0.850\n",
            "Epoch: 11/25..  Training Loss: 0.251..  Test Loss: 0.433..  Test Accuracy: 0.883\n",
            "Epoch: 12/25..  Training Loss: 0.416..  Test Loss: 0.285..  Test Accuracy: 0.883\n",
            "Epoch: 13/25..  Training Loss: 0.659..  Test Loss: 0.502..  Test Accuracy: 0.850\n",
            "Epoch: 14/25..  Training Loss: 0.326..  Test Loss: 0.486..  Test Accuracy: 0.817\n",
            "Epoch: 15/25..  Training Loss: 0.235..  Test Loss: 0.343..  Test Accuracy: 0.867\n",
            "Epoch: 16/25..  Training Loss: 0.211..  Test Loss: 0.658..  Test Accuracy: 0.883\n",
            "Epoch: 17/25..  Training Loss: 0.442..  Test Loss: 0.392..  Test Accuracy: 0.850\n",
            "Epoch: 18/25..  Training Loss: 0.419..  Test Loss: 0.673..  Test Accuracy: 0.700\n",
            "Epoch: 19/25..  Training Loss: 0.315..  Test Loss: 0.545..  Test Accuracy: 0.817\n",
            "Epoch: 20/25..  Training Loss: 0.370..  Test Loss: 4.171..  Test Accuracy: 0.633\n",
            "Epoch: 21/25..  Training Loss: 0.696..  Test Loss: 0.563..  Test Accuracy: 0.700\n",
            "Epoch: 22/25..  Training Loss: 0.321..  Test Loss: 1.025..  Test Accuracy: 0.900\n",
            "Epoch: 23/25..  Training Loss: 0.272..  Test Loss: 1.694..  Test Accuracy: 0.833\n",
            "Epoch: 24/25..  Training Loss: 0.249..  Test Loss: 1.685..  Test Accuracy: 0.850\n",
            "Epoch: 25/25..  Training Loss: 0.226..  Test Loss: 2.368..  Test Accuracy: 0.800\n"
          ],
          "name": "stdout"
        }
      ]
    },
    {
      "cell_type": "code",
      "metadata": {
        "id": "TnK7ND8MW_CO",
        "colab_type": "code",
        "colab": {}
      },
      "source": [
        "#topk returns what the model thinks it is"
      ],
      "execution_count": null,
      "outputs": []
    },
    {
      "cell_type": "code",
      "metadata": {
        "id": "JQ1mBNjbl2_f",
        "colab_type": "code",
        "colab": {}
      },
      "source": [
        "#in order for training you need optimizer and loss function"
      ],
      "execution_count": null,
      "outputs": []
    },
    {
      "cell_type": "code",
      "metadata": {
        "id": "axuqojiOl7qL",
        "colab_type": "code",
        "colab": {}
      },
      "source": [
        "%matplotlib inline\n",
        "%config InlineBackend.figure_format = 'retina'\n",
        "\n",
        "import matplotlib.pyplot as plt"
      ],
      "execution_count": null,
      "outputs": []
    },
    {
      "cell_type": "code",
      "metadata": {
        "id": "o2nE7kcrr7uc",
        "colab_type": "code",
        "colab": {
          "base_uri": "https://localhost:8080/",
          "height": 282
        },
        "outputId": "031c0f8b-d888-4895-fd24-e5118920bb61"
      },
      "source": [
        "plt.plot(train_losses, label='Training loss')\n",
        "plt.plot(test_losses, label='Validation loss')\n",
        "plt.legend(frameon=False)"
      ],
      "execution_count": null,
      "outputs": [
        {
          "output_type": "execute_result",
          "data": {
            "text/plain": [
              "<matplotlib.legend.Legend at 0x7fced4ecdf60>"
            ]
          },
          "metadata": {
            "tags": []
          },
          "execution_count": 98
        },
        {
          "output_type": "display_data",
          "data": {
            "image/png": "[encoded data removed]",
            "text/plain": [
              "<Figure size 432x288 with 1 Axes>"
            ]
          },
          "metadata": {
            "tags": [],
            "image/png": {
              "width": 366,
              "height": 248
            },
            "needs_background": "light"
          }
        }
      ]
    },
    {
      "cell_type": "code",
      "metadata": {
        "id": "ZK4oMlysr991",
        "colab_type": "code",
        "colab": {
          "base_uri": "https://localhost:8080/",
          "height": 187
        },
        "outputId": "ea932f91-9d4d-4976-dcfb-cdadbfcc9192"
      },
      "source": [
        "dataiter=iter(testloader)\n",
        "audio,label=dataiter.next()\n",
        "\n",
        "with torch.no_grad():\n",
        "  log_ps=model.forward(audio)\n",
        "ps=torch.exp(log_ps)\n",
        "print(label)\n",
        "print(ps.topk(1))"
      ],
      "execution_count": null,
      "outputs": [
        {
          "output_type": "stream",
          "text": [
            "tensor([1, 0, 1, 1])\n",
            "torch.return_types.topk(\n",
            "values=tensor([[0.9586],\n",
            "        [0.6058],\n",
            "        [0.7456],\n",
            "        [0.9933]]),\n",
            "indices=tensor([[1],\n",
            "        [0],\n",
            "        [1],\n",
            "        [1]]))\n"
          ],
          "name": "stdout"
        }
      ]
    },
    {
      "cell_type": "code",
      "metadata": {
        "id": "SSCSh1c5u9fD",
        "colab_type": "code",
        "colab": {}
      },
      "source": [
        "torch.save(model.state_dict(),os.path.join(BASEDIR,'alisha_model.pkl'))\n"
      ],
      "execution_count": null,
      "outputs": []
    },
    {
      "cell_type": "code",
      "metadata": {
        "id": "hbESg4LOvS4t",
        "colab_type": "code",
        "colab": {}
      },
      "source": [
        "model2=AudioNetwork()"
      ],
      "execution_count": null,
      "outputs": []
    },
    {
      "cell_type": "code",
      "metadata": {
        "id": "juMn2EaQvgE-",
        "colab_type": "code",
        "colab": {}
      },
      "source": [
        "state_dict=torch.load(os.path.join(BASEDIR,'alisha_model.pkl'))"
      ],
      "execution_count": null,
      "outputs": []
    },
    {
      "cell_type": "code",
      "metadata": {
        "id": "_iuhYnAVvnNy",
        "colab_type": "code",
        "colab": {
          "base_uri": "https://localhost:8080/",
          "height": 34
        },
        "outputId": "7dbe9a39-0877-4c5e-9226-f06b0e248247"
      },
      "source": [
        "model2.load_state_dict(state_dict)"
      ],
      "execution_count": null,
      "outputs": [
        {
          "output_type": "execute_result",
          "data": {
            "text/plain": [
              "<All keys matched successfully>"
            ]
          },
          "metadata": {
            "tags": []
          },
          "execution_count": 107
        }
      ]
    },
    {
      "cell_type": "code",
      "metadata": {
        "id": "85rwn-JVvru4",
        "colab_type": "code",
        "colab": {
          "base_uri": "https://localhost:8080/",
          "height": 187
        },
        "outputId": "574dc3e8-61fb-4bc0-cd1d-6d5c1bb51aef"
      },
      "source": [
        "dataiter=iter(testloader)\n",
        "audio,label=dataiter.next()\n",
        "\n",
        "with torch.no_grad():\n",
        "  log_ps=model2.forward(audio)\n",
        "ps=torch.exp(log_ps)\n",
        "print(label)\n",
        "print(ps.topk(1))"
      ],
      "execution_count": null,
      "outputs": [
        {
          "output_type": "stream",
          "text": [
            "tensor([0, 1, 0, 1])\n",
            "torch.return_types.topk(\n",
            "values=tensor([[0.9638],\n",
            "        [0.9927],\n",
            "        [0.9964],\n",
            "        [0.9974]]),\n",
            "indices=tensor([[0],\n",
            "        [1],\n",
            "        [0],\n",
            "        [0]]))\n"
          ],
          "name": "stdout"
        }
      ]
    },
    {
      "cell_type": "code",
      "metadata": {
        "id": "EtY1GAizv5Vd",
        "colab_type": "code",
        "colab": {}
      },
      "source": [
        ""
      ],
      "execution_count": null,
      "outputs": []
    }
  ]
}